{
 "cells": [
  {
   "cell_type": "code",
   "execution_count": 5,
   "id": "6ab798c4",
   "metadata": {},
   "outputs": [
    {
     "name": "stdout",
     "output_type": "stream",
     "text": [
      "Enter your first name: Juan\n",
      "Enter your last name: Martinez\n",
      "Martinez Juan\n"
     ]
    }
   ],
   "source": [
    "#1.Accept the user's first and last name and print them in reverse order with a space between them.\n",
    "\n",
    "#This function will take the user's first name as input.\n",
    "users_First_Name = input('Enter your first name: ')\n",
    "\n",
    "#This function will take the user's last name as input.\n",
    "users_Last_Name = input('Enter your last name: ')\n",
    "\n",
    "#This print function will print the user's first and last name previously entered in reverse order.\n",
    "print(users_Last_Name, users_First_Name)"
   ]
  },
  {
   "cell_type": "code",
   "execution_count": 1,
   "id": "58ec5051",
   "metadata": {},
   "outputs": [
    {
     "name": "stdout",
     "output_type": "stream",
     "text": [
      "Enter your first integer: 2\n",
      "Enter your second integer: 5\n",
      "Enter your third integer:7\n",
      "14\n"
     ]
    }
   ],
   "source": [
    "#2.Accept an integer (n) input from the user and compute the value of n+nn+nnn. \n",
    "#For example if n=4 then n + nn + nnn = 4 + 44 + 444 = 492\n",
    "\n",
    "#This function takes the user's number of choice as input and converts it into an integer.\n",
    "integer_One = int(input('Enter your first integer: '))\n",
    "\n",
    "#Second function to take user's second integer, also converts it into an integer.\n",
    "integer_Two = int(input('Enter your second integer: '))\n",
    "\n",
    "#Third and last function taking a number from the user and converts it as integer.\n",
    "integer_Three = int(input('Enter your third integer:'))\n",
    "\n",
    "#This final print function will print the sum of all three inputs as integer.\n",
    "print(integer_One + integer_Two + integer_Three)"
   ]
  },
  {
   "cell_type": "code",
   "execution_count": 4,
   "id": "ca556e80",
   "metadata": {},
   "outputs": [
    {
     "name": "stdout",
     "output_type": "stream",
     "text": [
      "What country are your from? Italy\n",
      "I have heard that Italy is a beautiful country!\n"
     ]
    }
   ],
   "source": [
    "#3.Ask the user \"What country are you from?\" \n",
    "#then print the following statement: \"I have heard that [input] is a beautiful country!\"\n",
    "\n",
    "#Function taking input from the user as a string.\n",
    "country_Of_Origin = input('What country are your from? ')\n",
    "\n",
    "#This print function prints the statement \"I have heard that [Input] is a beautiful country!\"\n",
    "print('I have heard that', country_Of_Origin , 'is a beautiful country!')"
   ]
  },
  {
   "cell_type": "code",
   "execution_count": 5,
   "id": "ecca9e34",
   "metadata": {},
   "outputs": [],
   "source": [
    "#4.What is the output of the following Python code\n",
    "\n",
    "#x = 10\n",
    "#y = 50\n",
    "#if (x ** 2 > 100 and y < 100):\n",
    " #   print(x, y)\n",
    "    \n",
    "#This code will not output anything because the *and* logical operator requires both conditions to be true.\n",
    "#In this case 'x ** 2 > 100* AND 'y < 100' need to evaluate as true for the print function to execute.\n",
    "#This is not the case as we have x = 10 and x**2 evaluates to 20 and 20 is not > than 100.\n",
    "#SO the code will not execute."
   ]
  },
  {
   "cell_type": "code",
   "execution_count": 7,
   "id": "38236aed",
   "metadata": {},
   "outputs": [],
   "source": [
    "#5.What is the output of the following addition (+) operator, and why does this code chunk execute this way?\n",
    "\n",
    "#a = [10, 20]\n",
    "#b = a\n",
    "#b += [30, 40]\n",
    "#print(a)\n",
    "#print(b)\n",
    "\n",
    "#The output are two one by four matrices.\n",
    "#We get this output because on our second line, when we set b = a, we are essentially saying that a and b are one and the same now.\n",
    "#For this reason when we modify b in line 3, a is also affected.\n",
    "#Also, we should note that in line 3, we are not replacing the original matrix, we are adding two more numbers to the matrix making it a 1 by 4.\n"
   ]
  },
  {
   "cell_type": "code",
   "execution_count": 1,
   "id": "335ba11b",
   "metadata": {},
   "outputs": [],
   "source": [
    "#6.What is the output of the following code and what arithmetic operators is being used here? \n",
    "#print(2%6)\n",
    "\n",
    "#This print statement will print '2' to the console.\n",
    "#This is the modulo operator which returns the remainder of division in python.\n",
    "#In this example, 6 goes into to 0 times, and we still have a remainder of 2 and this two gets printed to the console."
   ]
  },
  {
   "cell_type": "code",
   "execution_count": 3,
   "id": "639efddc",
   "metadata": {},
   "outputs": [],
   "source": [
    "#7. What is the output of the following code and what arithmetic operators are used here? \n",
    "#print(2 * 3 ** 3 * 4)\n",
    "#The output of this print statement will be 216.\n",
    "#Math in python follows the same rules we do, PEMDAS.\n",
    "#The operators being used here are the multiplication, and the exponent operators."
   ]
  },
  {
   "cell_type": "code",
   "execution_count": null,
   "id": "c17d6ead",
   "metadata": {},
   "outputs": [],
   "source": [
    "#8 What is a text editor?\n",
    "#A text editor in this case, is a tool that allows us to write and edit our code in a plain text format.\n",
    "#Some of my favorite test editors are Brackets, Sublime, and Notes++."
   ]
  },
  {
   "cell_type": "code",
   "execution_count": null,
   "id": "b41bbe0a",
   "metadata": {},
   "outputs": [],
   "source": [
    "#9 What is python?\n",
    "#Python is a versatile programming language that is dynamic typed.\n",
    "#It is the easiest to learn and use do to its similarity to our spoken language (English)."
   ]
  },
  {
   "cell_type": "code",
   "execution_count": null,
   "id": "3df900ff",
   "metadata": {},
   "outputs": [],
   "source": [
    "#10 What is jupyter notebook, what type of python environment is it, and what alternatives are there to jupyter notebook?\n",
    "#Jupyter notebook is a python enviroment where you can write, edit and test your code.\n",
    "#It is web-based, so it works on your broweser, no need to install a separate IDE or text editor.\n",
    "#Some of my favorite alternatives to Jupyter notebook are PyCharm(Full IDE), VS Code and Replit (More web-based just like Jupyer notebook)"
   ]
  }
 ],
 "metadata": {
  "kernelspec": {
   "display_name": "Python 3",
   "language": "python",
   "name": "python3"
  },
  "language_info": {
   "codemirror_mode": {
    "name": "ipython",
    "version": 3
   },
   "file_extension": ".py",
   "mimetype": "text/x-python",
   "name": "python",
   "nbconvert_exporter": "python",
   "pygments_lexer": "ipython3",
   "version": "3.8.8"
  }
 },
 "nbformat": 4,
 "nbformat_minor": 5
}
