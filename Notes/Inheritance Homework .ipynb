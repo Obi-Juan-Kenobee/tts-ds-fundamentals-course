{
 "cells": [
  {
   "cell_type": "code",
   "execution_count": null,
   "id": "9d118148",
   "metadata": {},
   "outputs": [],
   "source": [
    "#You are given two classes, Person and Student, where Person is the base class and Student is the derived class. \n",
    "#Completed code for Person and a declaration for Student are provided for you in the editor. \n",
    "#Observe that Student inherits all the properties of Person.\n",
    "\n",
    "#Complete the Student class by writing the following:\n",
    "\n",
    "#A Student class constructor, which has 4 parameters:\n",
    "\n",
    "#A string, firstName\n",
    "#A string, lastName\n",
    "#An integer, id An integer array (or vector) of test scores, scores\n",
    "#A char calculate() method that calculates a Student object's average and returns the grade character representative of their calculated average:\n",
    "\n",
    "#A | 90-100\n",
    "#B | 80-89\n",
    "#C | 70-79\n",
    "#D | 60-69\n",
    "#F | <60\n",
    "\n",
    "\n",
    "#Person class from which the Student class will be derived\n",
    "class Person:\n",
    "    \"\"\"This class sets the base of what a person has.\"\"\"\n",
    "    def __init__(self, name, fingers, clothes=True):\n",
    "        self.name = name\n",
    "        self.fingers = fingers\n",
    "        self.clothes = clothes\n",
    "        \n",
    "    def speak(self):\n",
    "        print('I am a real person!')\n",
    "        \n",
    "    def walk(self):\n",
    "        print('I walk upright!!')\n",
    "        \n",
    "class Student(Person):\n",
    "    \"\"\"This class inherits the methods and attributes of the Person class while also sets what a student is.\"\"\"\n",
    "    def __init__(self, firstName, lastName, scores=[]):\n",
    "        self.firstName = firstName\n",
    "        self.lastName = lastName\n",
    "        self.scores = scores\n",
    "        \n",
    "    def calculate(self):\n",
    "        "
   ]
  }
 ],
 "metadata": {
  "kernelspec": {
   "display_name": "Python 3",
   "language": "python",
   "name": "python3"
  },
  "language_info": {
   "codemirror_mode": {
    "name": "ipython",
    "version": 3
   },
   "file_extension": ".py",
   "mimetype": "text/x-python",
   "name": "python",
   "nbconvert_exporter": "python",
   "pygments_lexer": "ipython3",
   "version": "3.8.8"
  }
 },
 "nbformat": 4,
 "nbformat_minor": 5
}
