{
 "cells": [
  {
   "cell_type": "code",
   "execution_count": 1,
   "id": "c47c2327",
   "metadata": {},
   "outputs": [
    {
     "name": "stdout",
     "output_type": "stream",
     "text": [
      "Hello World!\n"
     ]
    }
   ],
   "source": [
    "print('Hello World!')"
   ]
  },
  {
   "cell_type": "markdown",
   "id": "566f08a9",
   "metadata": {},
   "source": [
    "Python is a dynamically typed programming language! - Not statically typed."
   ]
  },
  {
   "cell_type": "code",
   "execution_count": 2,
   "id": "96925f5d",
   "metadata": {},
   "outputs": [],
   "source": [
    "#Data Types\n",
    "my_Bool = True\n",
    "my_Bool_Two = False\n",
    "my_Int = 55\n",
    "my_Float = 4.3\n",
    "my_String = 'This is a String!' #can use either single or double quotes\n"
   ]
  },
  {
   "cell_type": "code",
   "execution_count": 3,
   "id": "4b6a4bbe",
   "metadata": {},
   "outputs": [],
   "source": [
    "#Variable\n",
    "#Must start with a letter or an underscore\n"
   ]
  },
  {
   "cell_type": "code",
   "execution_count": 4,
   "id": "7f3c8737",
   "metadata": {},
   "outputs": [],
   "source": [
    "#Math in Python\n",
    "#follows standard arithmetic rules (PEMDAS)\n",
    "#modulo returns the remainder %\n",
    "#Floor division \"Floors\" any floating point value - in other words it removes any decimal point"
   ]
  },
  {
   "cell_type": "code",
   "execution_count": 5,
   "id": "7a97a189",
   "metadata": {},
   "outputs": [],
   "source": [
    "#Comparison Operators - All of these will result in a boolean\n",
    "#x > y\n",
    "#x < y\n",
    "#x >= y\n",
    "#x <= y\n",
    "#x != y\n",
    "#x == y"
   ]
  },
  {
   "cell_type": "code",
   "execution_count": 6,
   "id": "670794bb",
   "metadata": {},
   "outputs": [],
   "source": [
    "#Data Structures"
   ]
  },
  {
   "cell_type": "code",
   "execution_count": 7,
   "id": "20665642",
   "metadata": {},
   "outputs": [],
   "source": [
    "#input Function - Takes input from the user, data type is always a string.\n",
    "x = input(\"This is an example of an input function, type something!: \")"
   ]
  },
  {
   "cell_type": "code",
   "execution_count": null,
   "id": "f5ee55c9",
   "metadata": {},
   "outputs": [],
   "source": [
    "#Functions - Reusable pieces of code that carry out a specific task.\n",
    "#Like math functions -> Consistent output based on input.\n",
    "#Single responsibility principle - Every function should accomplish one task\n",
    "\n",
    "#Syntax - def name_Of_The_Function():\n",
    "              #code to carry out"
   ]
  },
  {
   "cell_type": "code",
   "execution_count": null,
   "id": "dfd80103",
   "metadata": {},
   "outputs": [],
   "source": [
    "#Inside of a function's parenthesis are the parameters\n",
    "#When we define a function these are\n",
    "def adds_Two_Things_Together(x,y):\n",
    "    print(x + y)"
   ]
  },
  {
   "cell_type": "code",
   "execution_count": null,
   "id": "2fc3bd41",
   "metadata": {},
   "outputs": [],
   "source": [
    "#Function call\n",
    "#Syntax for calling a function - name_Of_The_Function(argument1, argument2)\n",
    "adds_Two_Things_Together(4,66)"
   ]
  },
  {
   "cell_type": "code",
   "execution_count": null,
   "id": "df9daf75",
   "metadata": {},
   "outputs": [],
   "source": [
    "#Return\n",
    "#Return - Return statements end the function call\n",
    "        #Return statements are equivalent to the function call"
   ]
  },
  {
   "cell_type": "code",
   "execution_count": null,
   "id": "354da0fc",
   "metadata": {},
   "outputs": [],
   "source": [
    "def example_Function(parameter1, parameter2):\n",
    "    print('Hello World!')\n",
    "    return(parameter1, parameter2)\n",
    "    "
   ]
  },
  {
   "cell_type": "code",
   "execution_count": null,
   "id": "f710059c",
   "metadata": {},
   "outputs": [],
   "source": [
    "#4 Built-in python data structures\n",
    "#a. Lists\n",
    "my_List = ['x', 'y', 'z']\n",
    "int_List = [1,2,3,4,5]\n",
    "float_List = [1.2, 2.2, 3.3, 4.4, 5.5]\n",
    "mixed_List = ['x', 1, True, 3.14]\n",
    "#Lists can be indexed\n",
    "#Ordered\n",
    "#Mutable\n",
    "#Can have multiple items of the same value"
   ]
  },
  {
   "cell_type": "code",
   "execution_count": null,
   "id": "818266d0",
   "metadata": {},
   "outputs": [],
   "source": [
    "#4 Built-in python data structures\n",
    "#Sets\n",
    "#Mutable\n",
    "#Cannot have duplicate values\n",
    "#Cannot be indexed through\n",
    "#Order cannot be changed\n",
    "my_Set = {1, 2, 3, 4, 5}\n",
    "print(my_Set)\n",
    "\n",
    "#for loops are made to iterate over data structures.\n",
    "for i in my_Set:\n",
    "    print(i)"
   ]
  },
  {
   "cell_type": "code",
   "execution_count": null,
   "id": "796271f6",
   "metadata": {},
   "outputs": [],
   "source": [
    "#4 Built-in python data structures\n",
    "#Dictionaries\n",
    "#Key value pairs\n",
    "#Values are mutable\n",
    "my_Dictionary = {'One': 1, 'Two': 2, 'Three': 3, 'Four': 4}"
   ]
  },
  {
   "cell_type": "code",
   "execution_count": null,
   "id": "da953367",
   "metadata": {},
   "outputs": [],
   "source": [
    "#4 Built-in python data structures\n",
    "#Tuple\n",
    "my_Tuple = (1, 2, 3, 4)\n",
    "#Tuples are not mutable (values in them cannot be changed)\n",
    "#Can be indexed\n",
    "#Can have duplicate values"
   ]
  },
  {
   "cell_type": "code",
   "execution_count": null,
   "id": "75c5705c",
   "metadata": {},
   "outputs": [],
   "source": [
    "#Slicing\n",
    "int_List = [1, 2, 3, 4, 5]\n",
    "#When using slicing, the first number is inclusive, and the second is exclusive\n",
    "#E.x - print(my_List[0:2]) - will take the first 3 numbers, but only print 1 and 2 as 3 will be excluded"
   ]
  }
 ],
 "metadata": {
  "kernelspec": {
   "display_name": "Python 3",
   "language": "python",
   "name": "python3"
  },
  "language_info": {
   "codemirror_mode": {
    "name": "ipython",
    "version": 3
   },
   "file_extension": ".py",
   "mimetype": "text/x-python",
   "name": "python",
   "nbconvert_exporter": "python",
   "pygments_lexer": "ipython3",
   "version": "3.8.8"
  }
 },
 "nbformat": 4,
 "nbformat_minor": 5
}
