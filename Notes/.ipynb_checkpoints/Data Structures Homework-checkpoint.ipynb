{
 "cells": [
  {
   "cell_type": "code",
   "execution_count": 27,
   "id": "0a953211",
   "metadata": {},
   "outputs": [],
   "source": [
    "#1. In mathematics, the quadratic equation ax2+bx+c=0 can be solved with the formula x=−b±b2−4ac√2a.\n",
    "\n",
    "#Write a function solve_quadratic, that returns both solutions of a generic quadratic as a pair (2-tuple) \n",
    "#when the coefficients are given as parameters. It should work like this:\n",
    "\n",
    "#print(solve_quadratic(1,-3,2))\n",
    "#(2.0,1.0)\n",
    "#print(solve_quadratic(1,2,1))\n",
    "#(-1.0,-1.0)\n",
    "#You may want to use the math.sqrt function from the math module in your solution. \n",
    "#Test that your function works in the main function!\n",
    "\n",
    "#Importing the math module first to find the square root.\n",
    "import math\n",
    "\n",
    "#Function solve_Quadratic that will be tasked with finding the solutions of a quadratic equation.\n",
    "def solve_Quadratic(a, b, c):\n",
    "    bottom_Quadratic_Formula = 2*a\n",
    "    in_Case_Its_Negative = b**2 - 4*a*c\n",
    "    topPositive_Quadratic_Formula = 0\n",
    "    topNegative_Quadratic_Formula = 0\n",
    "    if in_Case_Its_Negative < 0:\n",
    "        print(str(-b) + ' +/- sqrt('+ str(in_Case_Its_Negative) + ')' + '/' + str(2*a))\n",
    "    elif in_Case_Its_Negative >= 0:\n",
    "        topPositive_Quadratic_Formula = -b + math.sqrt(b**2 - 4*a*c)\n",
    "        topNegative_Quadratic_Formula = -b - math.sqrt(b**2 - 4*a*c)\n",
    "    positive_Result = topPositive_Quadratic_Formula/bottom_Quadratic_Formula\n",
    "    negative_Result = topNegative_Quadratic_Formula/bottom_Quadratic_Formula\n",
    "    return positive_Result, negative_Result\n"
   ]
  },
  {
   "cell_type": "code",
   "execution_count": 31,
   "id": "7ab0be76",
   "metadata": {},
   "outputs": [
    {
     "name": "stdout",
     "output_type": "stream",
     "text": [
      "(-1.0, -1.0)\n"
     ]
    }
   ],
   "source": [
    "print(solve_Quadratic(1,2,1))"
   ]
  },
  {
   "cell_type": "code",
   "execution_count": 43,
   "id": "2f062d49",
   "metadata": {},
   "outputs": [
    {
     "name": "stdout",
     "output_type": "stream",
     "text": [
      "Type an integer (Max 5): 4\n",
      "Type an integer (Max 5): 5\n",
      "Type an integer (Max 5): 5\n",
      "Type an integer (Max 5): 7\n",
      "Type an integer (Max 5): 3\n",
      "6756807574956844814\n"
     ]
    }
   ],
   "source": [
    "#Get a space-separated list of integers from the user, create a tuple of those integers. \n",
    "#Then compute and print the result of hash(tuple).\n",
    "\n",
    "#Counter for loop, to get only the 5 integers we need.\n",
    "max_Input_Digits = 1\n",
    "\n",
    "#Take input from user, turn it into a list.\n",
    "#We will take a max of 5 integers from the users.\n",
    "#Will loop until we get our five integers.\n",
    "int_List = []\n",
    "while max_Input_Digits <= 5:\n",
    "    users_Ints = int(input(\"Type an integer (Max 5): \"))\n",
    "    int_List.append(users_Ints)\n",
    "    max_Input_Digits += 1\n",
    "    \n",
    "#We turn our list into a tuple.\n",
    "turnlist_Into_Tuple = tuple(int_List)\n",
    "\n",
    "#We will compute the hash of this tuple list.\n",
    "print(hash(turnlist_Into_Tuple))"
   ]
  },
  {
   "cell_type": "code",
   "execution_count": 7,
   "id": "f007a646",
   "metadata": {},
   "outputs": [
    {
     "name": "stdout",
     "output_type": "stream",
     "text": [
      "[6, 12, 12, 20, 18, 28]\n"
     ]
    }
   ],
   "source": [
    "#Take the following two lists. \n",
    "#Create a third list by picking a odd-index elements from the first list and even-index elements from the second.\n",
    "\n",
    "#Our two given lists\n",
    "listOne = [3, 6, 9, 12, 15, 18, 21]\n",
    "listTwo = [4, 8, 12, 16, 20, 24, 28]\n",
    "\n",
    "#Obtaining the odd-index and even-index elements from the first and second lists.\n",
    "odd_Index = 1\n",
    "even_Index = 2\n",
    "new_List = []\n",
    "counter = 0\n",
    "while counter < 3:\n",
    "    \n",
    "    new_List.append(listOne[odd_Index])\n",
    "    new_List.append(listTwo[even_Index])\n",
    "    odd_Index += 2\n",
    "    even_Index += 2\n",
    "    counter += 1\n",
    "    \n",
    "print(new_List)"
   ]
  },
  {
   "cell_type": "code",
   "execution_count": 10,
   "id": "0e42dd79",
   "metadata": {},
   "outputs": [
    {
     "name": "stdout",
     "output_type": "stream",
     "text": [
      "[8, 45, 11]\n",
      "[12, 14, 23]\n",
      "[89, 45, 78]\n"
     ]
    }
   ],
   "source": [
    "#Take the following list. Slice it into three equal chunks and reverse each list.\n",
    "\n",
    "sampleList = [11, 45, 8, 23, 14, 12, 78, 45, 89]\n",
    "\n",
    "#First slice of list\n",
    "chunk_One = sampleList[0:3]\n",
    "chunk_Two = sampleList[3:6]\n",
    "chunk_Three = sampleList[6:]\n",
    "\n",
    "#Reversing each list\n",
    "chunk_One_Reversed = []\n",
    "chunk_Two_Reversed = []\n",
    "chunk_Three_Reversed = []\n",
    "\n",
    "while len(chunk_One) > 0:\n",
    "    chunk_One_Reversed.append(chunk_One[-1])\n",
    "    chunk_One.pop()\n",
    "while len(chunk_Two) > 0:\n",
    "    chunk_Two_Reversed.append(chunk_Two[-1])\n",
    "    chunk_Two.pop()\n",
    "while len(chunk_Three) > 0:\n",
    "    chunk_Three_Reversed.append(chunk_Three[-1])\n",
    "    chunk_Three.pop()\n",
    "    \n",
    "print(chunk_One_Reversed)\n",
    "print(chunk_Two_Reversed)\n",
    "print(chunk_Three_Reversed)"
   ]
  },
  {
   "cell_type": "code",
   "execution_count": 20,
   "id": "c46b63f6",
   "metadata": {},
   "outputs": [
    {
     "name": "stdout",
     "output_type": "stream",
     "text": [
      "{'Zach': 47, 'Emma': 69, 'Kelly': 76, 'Jason': 97}\n",
      "[47, 69, 76, 95, 97]\n"
     ]
    }
   ],
   "source": [
    "#Iterate through a given list and check if a given element already exists in a dictionary as a key’s value. \n",
    "#If not, delete it from the list.\n",
    "\n",
    "rollNumber = [47, 64, 69, 37, 76, 83, 95, 97]\n",
    "sampleDict ={'Zach':47, 'Emma':69, 'Kelly':76, 'Jason':97}\n",
    "\n",
    "for i in rollNumber:\n",
    "    if i not in sampleDict.values():\n",
    "        rollNumber.remove(i)\n",
    "        \n",
    "print(sampleDict)\n",
    "print(rollNumber)\n",
    "        "
   ]
  },
  {
   "cell_type": "code",
   "execution_count": null,
   "id": "4fcd6cbb",
   "metadata": {},
   "outputs": [],
   "source": []
  }
 ],
 "metadata": {
  "kernelspec": {
   "display_name": "Python 3",
   "language": "python",
   "name": "python3"
  },
  "language_info": {
   "codemirror_mode": {
    "name": "ipython",
    "version": 3
   },
   "file_extension": ".py",
   "mimetype": "text/x-python",
   "name": "python",
   "nbconvert_exporter": "python",
   "pygments_lexer": "ipython3",
   "version": "3.8.8"
  }
 },
 "nbformat": 4,
 "nbformat_minor": 5
}
