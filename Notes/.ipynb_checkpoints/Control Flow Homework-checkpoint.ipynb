{
 "cells": [
  {
   "cell_type": "code",
   "execution_count": 13,
   "id": "b2aaab5a",
   "metadata": {},
   "outputs": [
    {
     "name": "stdout",
     "output_type": "stream",
     "text": [
      "Guess a number 0-9: 6\n",
      "Sorry, your guess is wrong, the correct number was:  7\n"
     ]
    }
   ],
   "source": [
    "#1. Guess a number between 1 to 9 given by the user\n",
    "import math\n",
    "import random\n",
    "\n",
    "#user's guess\n",
    "users_Guess = int(input('Guess a number 0-9: '))\n",
    "\n",
    "#Computer's guess\n",
    "comp_Guess = random.randint(0, 10)\n",
    "\n",
    "#control flow\n",
    "if users_Guess == comp_Guess:\n",
    "    print('You guessed it!!')\n",
    "\n",
    "elif users_Guess != comp_Guess:\n",
    "    print('Sorry, your guess is wrong, the correct number was: ', comp_Guess)\n",
    "    \n"
   ]
  },
  {
   "cell_type": "code",
   "execution_count": 15,
   "id": "9749cb1e",
   "metadata": {},
   "outputs": [
    {
     "name": "stdout",
     "output_type": "stream",
     "text": [
      "Enter your password: fjkuY6%\n",
      "Success, your password is correct!\n"
     ]
    }
   ],
   "source": [
    "#2. Check the validity of password input by the user.\n",
    "\n",
    "#Validation:\n",
    "\n",
    "#At least 1 letter between [a-z] and 1 letter between [A-Z]\n",
    "#At least 1 number between [0-9]\n",
    "#At least 1 character from [$#@]\n",
    "#Minimum length 6 characters\n",
    "#Maximum length 16 characters\n",
    "\n",
    "\n",
    "#Validation\n",
    "val_Check = False\n",
    "symbol_List = ['$','#','@', '!', '%', '^', '&', '*', '(']\n",
    "while val_Check == False:\n",
    "    #password from user\n",
    "    is_alpha_lower= False\n",
    "    is_alpha_Upper= False\n",
    "    is_digit = False\n",
    "    symbol_Check = False\n",
    "    length_Check = False\n",
    "    users_Password = input('Enter your password: ')\n",
    "    for i in users_Password:\n",
    "        if len(users_Password) >= 6 and len(users_Password) < 16:\n",
    "            length_Check = True\n",
    "        else:\n",
    "            print('Password does not meet length requirements.')\n",
    "            val_Check = True\n",
    "            break\n",
    "        if i.isalpha():\n",
    "            if i == i.lower():\n",
    "                is_alpha_lower = True\n",
    "            elif i == i.upper():\n",
    "                is_alpha_Upper = True\n",
    "        elif i.isdigit():\n",
    "            is_digit = True\n",
    "        elif i in symbol_List:\n",
    "            symbol_Check = True\n",
    "        else:\n",
    "            print('Password is invalid, try again!')\n",
    "            break\n",
    "        if is_alpha_lower and is_alpha_Upper and is_digit and symbol_Check and length_Check:\n",
    "            print('Success, your password is correct!')\n",
    "            val_Check = True\n",
    "            break\n",
    "        #else:\n",
    "         #   print('Password in invalid, try again!')\n",
    "          #  continue\n",
    "        #if len(users_Password) < 6:\n",
    "         #   print('Password needs to be at least 6 characters!')\n",
    "        #if is_alpha_lower and is_alpha_Upper and is_digit and symbol_Check:\n",
    "         #   print('Success, your password is correct!')          #  break\n",
    "            "
   ]
  },
  {
   "cell_type": "code",
   "execution_count": 19,
   "id": "b20dd837",
   "metadata": {},
   "outputs": [
    {
     "name": "stdout",
     "output_type": "stream",
     "text": [
      "User 1 enter your age: 45\n",
      "User 2 enter your age: 33\n",
      "User 3 enter your age: 22\n",
      "['22', '33', '45']\n",
      "The youngest is  22 and the oldest is  45\n"
     ]
    }
   ],
   "source": [
    "#3. Get input of the age of 3 people by user and determine oldest and youngest among them\n",
    "\n",
    "#Age of person no.1\n",
    "person1_Age = input('User 1 enter your age: ')\n",
    "\n",
    "#Age of person no.2\n",
    "person2_Age = input('User 2 enter your age: ')\n",
    "\n",
    "#Age of person no.3\n",
    "person3_Age = input('User 3 enter your age: ')\n",
    "\n",
    "#Checking to see if age entered is a number, and making a list with the age of the users.\n",
    "if person1_Age.isdigit() and person2_Age.isdigit() and person3_Age.isdigit():\n",
    "    age_Young_Toold = [person1_Age, person2_Age,person3_Age]\n",
    "    age_Young_Toold.sort() #using the sort() function to arrange the ages from youngest to oldest.\n",
    "  \n",
    "    #in this section, we give an error if anything other than a number is typed in\n",
    "elif not person1_Age.isdigit():\n",
    "    print('User 1 entered an invalid age!')\n",
    "    \n",
    "elif not person2_Age.isdigit():\n",
    "    print('User 2 entered an invalid age!')\n",
    "    \n",
    "elif not person3_Age.isdigit():\n",
    "    print('User 3 entered an invalid age!')\n",
    "    \n",
    "#printing our sorted list of ages from youngest to oldest.\n",
    "print(age_Young_Toold)\n",
    "#showing the user which is youngest, and which is oldest.\n",
    "print('The youngest is', age_Young_Toold[0], 'and the oldest is', age_Young_Toold[2], '!')"
   ]
  },
  {
   "cell_type": "code",
   "execution_count": 20,
   "id": "36cb285a",
   "metadata": {},
   "outputs": [
    {
     "name": "stdout",
     "output_type": "stream",
     "text": [
      "How many classes during the semester? 56\n",
      "How many classes did the student attend? 45\n",
      "This student's attendance is 80.35714285714286 %\n",
      "This student is elegible to take the exam.\n"
     ]
    }
   ],
   "source": [
    "#4. A student will not be allowed to sit in exam if his/her attendance is less than 75%.\n",
    "\n",
    "#Take following input from user\n",
    "\n",
    "#Number of classes held\n",
    "#Number of classes attended.\n",
    "#And print\n",
    "#percentage of class attended\n",
    "#Is student is allowed to sit in exam or not?\n",
    "\n",
    "#asking the user for the total amount of classses held.\n",
    "total_Classes = int(input('How many classes during the semester? '))\n",
    "\n",
    "#asking the user for the total amount of classes attended.\n",
    "total_Attended = int(input('How many classes did the student attend? '))\n",
    "\n",
    "#logic to find out whether a stedent is allowed to sit in an exam or not.\n",
    "percent_For_Exam = (total_Attended/total_Classes)*100\n",
    "if percent_For_Exam < 75:\n",
    "    print(\"This student's attendance is\", percent_For_Exam, '%')\n",
    "    print(\"This student's attendace is less than 75%, and cannot take the exam.\")\n",
    "else:\n",
    "    print(\"This student's attendance is\", percent_For_Exam, '%')\n",
    "    print('This student is elegible to take the exam.')"
   ]
  },
  {
   "cell_type": "code",
   "execution_count": 22,
   "id": "1441df53",
   "metadata": {},
   "outputs": [
    {
     "name": "stdout",
     "output_type": "stream",
     "text": [
      "Enter an integer: 6\n",
      "Wierd.\n"
     ]
    }
   ],
   "source": [
    "#5. Get an integer N from the user and perform the following actions:\n",
    "\n",
    "#if N is odd, print \"weird\"\n",
    "#if N is even and in the inclusive range of 2 to 5, print \"Not Weird\"\n",
    "#if N is even and in the inclusive range of 6 to 20, print \"Weird\"\n",
    "#if N is even and greater than 20, print \"Not Weird\"\n",
    "\n",
    "integer_From_User = int(input('Enter an integer: '))\n",
    "\n",
    "if integer_From_User%2 != 0:\n",
    "    print('Wierd.')\n",
    "elif integer_From_User%2 == 0 and integer_From_User in range(2,6):\n",
    "    print('Not wierd.')\n",
    "elif integer_From_User%2 == 0 and integer_From_User in range(6, 21):\n",
    "    print('Wierd.')\n",
    "elif integer_From_User%2 == 0 and integer_From_User > 20:\n",
    "    print('Not Wierd.')\n",
    "else:\n",
    "    pass"
   ]
  },
  {
   "cell_type": "code",
   "execution_count": null,
   "id": "397ef720",
   "metadata": {},
   "outputs": [],
   "source": []
  }
 ],
 "metadata": {
  "kernelspec": {
   "display_name": "Python 3",
   "language": "python",
   "name": "python3"
  },
  "language_info": {
   "codemirror_mode": {
    "name": "ipython",
    "version": 3
   },
   "file_extension": ".py",
   "mimetype": "text/x-python",
   "name": "python",
   "nbconvert_exporter": "python",
   "pygments_lexer": "ipython3",
   "version": "3.8.8"
  }
 },
 "nbformat": 4,
 "nbformat_minor": 5
}
