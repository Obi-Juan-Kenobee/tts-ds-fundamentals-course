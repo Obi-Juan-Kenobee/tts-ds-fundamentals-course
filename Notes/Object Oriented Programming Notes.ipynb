{
 "cells": [
  {
   "cell_type": "code",
   "execution_count": null,
   "id": "2d05aba0",
   "metadata": {},
   "outputs": [],
   "source": [
    "#The four pillars of OOP - (Object Oriented Programming)\n",
    "\n",
    "#OOP - Object Oriented Programming, relating our code to real world objects or concepts.\n",
    "\n",
    "#Abstraction -  The full functionality is hidden from the user.\n",
    "#Encapsulation - The ability to capture and consolidate the code for a certain object in one place.\n",
    "#Polymorphism - The ability for an object to take many forms.\n",
    "#Inheritance - Parent/child relationship between objects. Superclass/subclass relationships."
   ]
  },
  {
   "cell_type": "code",
   "execution_count": null,
   "id": "09409c18",
   "metadata": {},
   "outputs": [],
   "source": [
    "#Classes\n",
    "#Class - A class is a template for an object, aka a blueprint for an object.\n",
    "#Attributes - Classes can have attributes, ex. height, wight, eye color, etc.\n",
    "#Methods - These are functions that are associated with a class/object.\n",
    "#Instance - aka Object aka instantiation of a class.\n",
    "\n",
    "#Encapsulation\n",
    "class grocery_Store: #class <name_Of_Class>\n",
    "    def __init__(self, name, number_Of_Registers, square_Footage, number_Of_Aisles, number_Of_Employees):\n",
    "        #Instance/object attributes - Instance attributes are established at the instance level\n",
    "        self.name = name\n",
    "        self.number_Of_Regeisters = number_Of_Registers\n",
    "        self.number_Of_Aisles = number_Of_Aisles\n",
    "        self.square_Footage = square_Footage\n",
    "        self.nuber_Of_Employees = number_Of_Employees\n",
    "        #Class attributes - Class attriubtes are established at the class level.\n",
    "        self.store_Hours = '24/7'\n",
    "        #Methods - Functions that are associated with OOP.\n",
    "        def hire_Employee(self): \n",
    "            number_Of_Employees_Hired = int(input('How many employees did you hire? '))\n",
    "            self.number_Of_Employees += number_Of_Employees_Hired\n",
    "            \n",
    "        def fire_Employee(self):\n",
    "            number_Of_Employees_Fired = int(input('How many employees did you fire? '))\n",
    "            self.number_Of_Employees -= number_Of_Employees_Fired"
   ]
  },
  {
   "cell_type": "code",
   "execution_count": null,
   "id": "960a0308",
   "metadata": {},
   "outputs": [],
   "source": [
    "#Instantiate an object/instantiation/create an object from a class\n",
    "#<name_Of_Object> = <name_Of_Class>(attr1, attr2, etc.)\n",
    "win_co = grocery_Store('WinCo', 6, 1200, 12, 20)"
   ]
  },
  {
   "cell_type": "code",
   "execution_count": null,
   "id": "effb6459",
   "metadata": {},
   "outputs": [],
   "source": [
    "#Inheretance\n",
    "#Code reuse\n",
    "#Code readability\n",
    "#The child class big_Box_Store is inheriting the grocery_Store class attributes/methods.\n",
    "class big_Box_Store(grocery_Store):\n",
    "    def __init__(self, name, number_Of_Registers, square_Footage, number_Of_Aisles, number_Of_Employees):\n",
    "        super().__init__(name, number_Of_Registers, square_Footage, number_Of_Aisles, number_Of_Employees)"
   ]
  }
 ],
 "metadata": {
  "kernelspec": {
   "display_name": "Python 3",
   "language": "python",
   "name": "python3"
  },
  "language_info": {
   "codemirror_mode": {
    "name": "ipython",
    "version": 3
   },
   "file_extension": ".py",
   "mimetype": "text/x-python",
   "name": "python",
   "nbconvert_exporter": "python",
   "pygments_lexer": "ipython3",
   "version": "3.8.8"
  }
 },
 "nbformat": 4,
 "nbformat_minor": 5
}
